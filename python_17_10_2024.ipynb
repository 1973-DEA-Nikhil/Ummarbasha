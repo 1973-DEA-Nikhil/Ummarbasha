{
 "cells": [
  {
   "cell_type": "code",
   "execution_count": 2,
   "id": "1a7eee29-e9ca-4fc9-973d-2eb05ba15272",
   "metadata": {},
   "outputs": [
    {
     "name": "stdout",
     "output_type": "stream",
     "text": [
      "700\n"
     ]
    }
   ],
   "source": [
    "# 1. Write a python program to find the 2nd maximumvalue in a list without using any in-built function.\n",
    "\n",
    "numbers = [23, 45, 78, 100, 3, -3, 700, 8, 9000]\n",
    "first_max = float('-inf')\n",
    "for n in numbers:\n",
    "    if n > first_max:\n",
    "        first_max = n\n",
    "        second_max = float('-inf')\n",
    "for n in numbers:\n",
    "    if n > second_max and n!= first_max:\n",
    "        second_max = n\n",
    "print(second_max)"
   ]
  },
  {
   "cell_type": "code",
   "execution_count": 5,
   "id": "90696aaf-a7bd-4b7a-a840-da6c915f0f4f",
   "metadata": {},
   "outputs": [
    {
     "name": "stdout",
     "output_type": "stream",
     "text": [
      "[9000, 8, 700, -3, 3, 100, 78, 45, 23]\n"
     ]
    }
   ],
   "source": [
    "# 2. Write a python program to reverse a list without using any in-built function or slicing.\n",
    "nums = [23, 45, 78, 100, 3, -3, 700, 8, 9000]\n",
    "result = []\n",
    "for i in range(1,len(nums)+1):\n",
    "    result.append(nums[-i])\n",
    "print(result)"
   ]
  },
  {
   "cell_type": "code",
   "execution_count": 6,
   "id": "7d2233e4-2c63-4351-9e0f-52c43ead8842",
   "metadata": {},
   "outputs": [
    {
     "name": "stdout",
     "output_type": "stream",
     "text": [
      "[-3, 3, 8, 23, 45, 78, 100, 700, 9000]\n"
     ]
    }
   ],
   "source": [
    "# 3. Write a python program to sort the list without using any function\n",
    "nums = [23, 45, 78, 100, 3, -3, 700, 8, 9000]\n",
    "for i in range(len(nums)):\n",
    "    for j in range(i+1, len(nums)):\n",
    "        if nums[i] > nums[j]:\n",
    "            temp = nums[j]\n",
    "            nums[j] = nums[i]\n",
    "            nums[i] = temp\n",
    "\n",
    "print(nums)"
   ]
  },
  {
   "cell_type": "code",
   "execution_count": null,
   "id": "d6ca1e91-48a3-4f0d-9444-80885bd1071c",
   "metadata": {},
   "outputs": [],
   "source": [
    "#  4. Write a Python program to find the factorial of a number.\n",
    "def fact(n):\n",
    "    if n ==0:\n",
    "        return 1\n",
    "    else:\n",
    "        return fact(n) * fact(n-1)\n",
    "\n",
    "n = 5\n",
    "print(fact(n))\n"
   ]
  },
  {
   "cell_type": "code",
   "execution_count": 5,
   "id": "7322b7f5-447c-4743-ae39-aed22c41fc57",
   "metadata": {},
   "outputs": [
    {
     "name": "stdout",
     "output_type": "stream",
     "text": [
      "20\n"
     ]
    }
   ],
   "source": [
    "#  5.Write a Python program to find the largest element in a list\n",
    "def find_max(n):\n",
    "    largest = n[0]\n",
    "    for num in n:\n",
    "        if num > largest:\n",
    "            largest = num\n",
    "    return largest\n",
    "nums = [10, 5, 8, 20, 3]\n",
    "print(find_max(nums))"
   ]
  },
  {
   "cell_type": "code",
   "execution_count": 2,
   "id": "5af1ba88-a88d-41df-8e4a-0ddae510a612",
   "metadata": {},
   "outputs": [
    {
     "name": "stdout",
     "output_type": "stream",
     "text": [
      "{1: 2, 2: 3, 3: 2, 4: 2, 5: 1}\n"
     ]
    }
   ],
   "source": [
    "#  6. Write a Python program to count the frequency of each element in a list.\n",
    "def count_frequency(numbers):\n",
    "    freq = {}\n",
    "    for n in numbers:\n",
    "        if n in freq:\n",
    "            freq[n] += 1\n",
    "        else :\n",
    "            freq[n] = 1\n",
    "    return freq\n",
    "\n",
    "nums = [1, 2, 3, 2, 1, 3, 2, 4, 5, 4]\n",
    "print(count_frequency(nums))"
   ]
  },
  {
   "cell_type": "code",
   "execution_count": 5,
   "id": "c7ae8c99-40c7-4198-9639-67262ff7f2c2",
   "metadata": {},
   "outputs": [
    {
     "name": "stdout",
     "output_type": "stream",
     "text": [
      "its a prime\n"
     ]
    }
   ],
   "source": [
    "# 7. Write a Python program to check if a number is prime.\n",
    "def is_prime(number):\n",
    "    if number < 2:\n",
    "        return False\n",
    "    for i in range(2, int(number**0.5) + 1):\n",
    "        if number % i == 0:\n",
    "            return False\n",
    "    return True\n",
    "\n",
    "n = 11\n",
    "if is_prime(n):\n",
    "    print(\"its a prime\")\n",
    "else:\n",
    "    print(\"not a prime\")"
   ]
  },
  {
   "cell_type": "code",
   "execution_count": 6,
   "id": "86174000-7e97-43d1-b16e-89139047584a",
   "metadata": {},
   "outputs": [
    {
     "name": "stdout",
     "output_type": "stream",
     "text": [
      "[4, 5]\n"
     ]
    }
   ],
   "source": [
    "# 8. Write a Python program to find the common elements between two lists.\n",
    "def find_common_elements(list1, list2):\n",
    "    common_elements = []\n",
    "    for item in list1:\n",
    "        if item in list2:\n",
    "            common_elements.append(item)\n",
    "    return common_elements\n",
    "    \n",
    "list_a = [1, 2, 3, 4, 5]\n",
    "list_b = [4, 5, 6, 7, 8]\n",
    "common = find_common_elements(list_a, list_b)\n",
    "print(common)"
   ]
  },
  {
   "cell_type": "code",
   "execution_count": 8,
   "id": "667d552b-e64b-4b48-a3c9-e2369d49c87d",
   "metadata": {},
   "outputs": [
    {
     "name": "stdout",
     "output_type": "stream",
     "text": [
      "[1, 2, 3, 4, 5]\n"
     ]
    }
   ],
   "source": [
    "#  9. Write a Python program to remove duplicates from a list\n",
    "def remove_duplicates(numbers):\n",
    "    unique_numbers = []\n",
    "    for num in numbers:\n",
    "        if num not in unique_numbers:\n",
    "            unique_numbers.append(num)\n",
    "    return unique_numbers\n",
    "\n",
    "nums = [1, 2, 3, 2, 1, 3, 2, 4, 5, 4]\n",
    "print(remove_duplicates(nums))\n"
   ]
  },
  {
   "cell_type": "code",
   "execution_count": 9,
   "id": "c10c833a-ee2e-43fc-ba81-318cc04b06af",
   "metadata": {},
   "outputs": [
    {
     "name": "stdout",
     "output_type": "stream",
     "text": [
      "Missing number: 3\n"
     ]
    }
   ],
   "source": [
    "#  10. Find missing number in list\n",
    "nums = [1, 2, 4, 5, 6]\n",
    "def find_missing_number(nums):\n",
    "    n = len(nums) + 1\n",
    "    expected_sum = n * (n + 1) // 2\n",
    "    actual_sum = sum(nums)\n",
    "    return expected_sum - actual_sum\n",
    "print(f\"Missing number: {find_missing_number(nums)}\")"
   ]
  },
  {
   "cell_type": "code",
   "execution_count": 10,
   "id": "0c685b3b-ec49-4050-857d-15f9361fd536",
   "metadata": {},
   "outputs": [
    {
     "name": "stdout",
     "output_type": "stream",
     "text": [
      "Index of second 'apple': 3\n"
     ]
    }
   ],
   "source": [
    "# 11.  Find second occurrence\n",
    "fruits = ['apple', 'banana', 'cherry', 'apple']\n",
    "def find_second_occurrence(lst, item):\n",
    "    first_index = lst.index(item)\n",
    "    return lst.index(item, first_index + 1)\n",
    "print(f\"Index of second 'apple': {find_second_occurrence(fruits, 'apple')}\")"
   ]
  },
  {
   "cell_type": "code",
   "execution_count": 11,
   "id": "2345bb9d-c008-4ee5-acd8-20d99d58e66e",
   "metadata": {},
   "outputs": [
    {
     "name": "stdout",
     "output_type": "stream",
     "text": [
      "Frequency of elements: {'apple': 2, 'banana': 1, 'cherry': 1}\n"
     ]
    }
   ],
   "source": [
    "# 12.  Count frequency of each element\n",
    "def count_frequency(lst):\n",
    "    return {item: lst.count(item) for item in set(lst)}\n",
    "print(f\"Frequency of elements: {count_frequency(fruits)}\")"
   ]
  },
  {
   "cell_type": "code",
   "execution_count": 12,
   "id": "4a952dd2-8327-4d05-916d-627ca879ac1f",
   "metadata": {},
   "outputs": [
    {
     "name": "stdout",
     "output_type": "stream",
     "text": [
      "3\n"
     ]
    }
   ],
   "source": [
    "# 13 .Counting Vowels in a Given Word\n",
    "vowel = ['a', 'e', 'i', 'o', 'u']\n",
    "word = \"programming\"\n",
    "count = 0\n",
    "for character in word:\n",
    "    if character in vowel:\n",
    "        count += 1\n",
    "print(count)"
   ]
  },
  {
   "cell_type": "code",
   "execution_count": 13,
   "id": "2ac9f49e-c7e7-421d-bd6a-41f11600be71",
   "metadata": {},
   "outputs": [
    {
     "name": "stdout",
     "output_type": "stream",
     "text": [
      "8\n"
     ]
    }
   ],
   "source": [
    "# 14. Counting Consonants in a Given Word\n",
    "vowel = ['a', 'e', 'i', 'o', 'u']\n",
    "word = \"programming\"\n",
    "count = 0\n",
    "for character in word:\n",
    "    if character not in vowel:\n",
    "        count += 1\n",
    "print(count)"
   ]
  },
  {
   "cell_type": "code",
   "execution_count": 15,
   "id": "45412fd1-39a6-4673-9abd-a7adacd55b19",
   "metadata": {},
   "outputs": [
    {
     "name": "stdout",
     "output_type": "stream",
     "text": [
      "0, 1, 1, 2, 3, 5, 8\n"
     ]
    }
   ],
   "source": [
    "# 15. Writing Fibonacci Series\n",
    "fib = [0,1]\n",
    "for i in range(5):\n",
    "    fib.append(fib[-1] + fib[-2])\n",
    "print(', '.join(str(e) for e in fib))"
   ]
  },
  {
   "cell_type": "code",
   "execution_count": 16,
   "id": "0adaa931-e499-4321-95c8-7d1061ed8b2c",
   "metadata": {},
   "outputs": [
    {
     "name": "stdout",
     "output_type": "stream",
     "text": [
      "2\n"
     ]
    }
   ],
   "source": [
    "# 16 . Finding the Minimum Number in a List\n",
    "numberList = [15, 85, 35, 89, 125, 2]\n",
    "minNum = numberList[0]\n",
    "for num in numberList:\n",
    "    if minNum > num:\n",
    "        minNum = num\n",
    "print(minNum)"
   ]
  },
  {
   "cell_type": "code",
   "execution_count": 17,
   "id": "9a6dd3c2-22b0-438f-867f-c2e1e6e93c48",
   "metadata": {},
   "outputs": [
    {
     "name": "stdout",
     "output_type": "stream",
     "text": [
      "3\n"
     ]
    }
   ],
   "source": [
    "# 17. Finding the Middle Element in a List\n",
    "numList = [1, 2, 3, 4, 5]\n",
    "midElement = int((len(numList)/2))\n",
    "print(numList[midElement])"
   ]
  },
  {
   "cell_type": "code",
   "execution_count": 18,
   "id": "cd11fac5-6eb0-4c70-b563-7e85258da7a3",
   "metadata": {},
   "outputs": [
    {
     "name": "stdout",
     "output_type": "stream",
     "text": [
      "[5, 7, 9]\n"
     ]
    }
   ],
   "source": [
    "# 18, Adding Two List Elements Together\n",
    "lst1 = [1, 2, 3]\n",
    "lst2 = [4, 5, 6]\n",
    "res_lst = []\n",
    "for i in range(0, len(lst1)):\n",
    "    res_lst.append(lst1[i] + lst2[i])\n",
    "print(res_lst)"
   ]
  },
  {
   "cell_type": "code",
   "execution_count": 19,
   "id": "0d08059b-ebb1-4b21-a9f9-1866e142af41",
   "metadata": {},
   "outputs": [
    {
     "name": "stdout",
     "output_type": "stream",
     "text": [
      "True\n"
     ]
    }
   ],
   "source": [
    "# 19. Comparing Two Strings for Anagrams\n",
    "str1 = \"Listen\"\n",
    "str2 = \"Silent\"\n",
    "str1 = list(str1.upper())\n",
    "str2 = list(str2.upper())\n",
    "str1.sort(), str2.sort()\n",
    "if(str1 == str2):\n",
    "    print(\"True\")\n",
    "else:\n",
    "    print(\"False\")\n"
   ]
  },
  {
   "cell_type": "code",
   "execution_count": 20,
   "id": "153ad927-1ac8-42c7-9649-2242d9b96f29",
   "metadata": {},
   "outputs": [
    {
     "name": "stdout",
     "output_type": "stream",
     "text": [
      "5\n"
     ]
    }
   ],
   "source": [
    "# 20. Counting the White Spaces in a String\n",
    "string = \"P r ogramm in g \"\n",
    "print(string.count(' '))"
   ]
  },
  {
   "cell_type": "code",
   "execution_count": null,
   "id": "e97a257f-ecb5-416b-b894-06f33d935205",
   "metadata": {},
   "outputs": [],
   "source": []
  }
 ],
 "metadata": {
  "kernelspec": {
   "display_name": "Python 3 (ipykernel)",
   "language": "python",
   "name": "python3"
  },
  "language_info": {
   "codemirror_mode": {
    "name": "ipython",
    "version": 3
   },
   "file_extension": ".py",
   "mimetype": "text/x-python",
   "name": "python",
   "nbconvert_exporter": "python",
   "pygments_lexer": "ipython3",
   "version": "3.10.1"
  }
 },
 "nbformat": 4,
 "nbformat_minor": 5
}
